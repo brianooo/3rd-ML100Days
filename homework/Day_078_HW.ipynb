{
 "cells": [
  {
   "cell_type": "markdown",
   "metadata": {},
   "source": [
    "## Work\n",
    "1. 請嘗試將 preproc_x 替換成以每筆資料的 min/max 進行標準化至 -1 ~ 1 間，再進行訓練\n",
    "2. 請嘗試將 mlp 疊更深 (e.g 5~10 層)，進行訓練後觀察 learning curve 的走勢\n",
    "3. (optional) 請改用 GPU 進行訓練 (如果你有 GPU 的話)，比較使用 CPU 與 GPU 的訓練速度"
   ]
  },
  {
   "cell_type": "code",
   "execution_count": 1,
   "metadata": {},
   "outputs": [
    {
     "data": {
      "text/plain": [
       "'\\nYour code here (optional)\\n確認硬體資源\\n'"
      ]
     },
     "execution_count": 1,
     "metadata": {},
     "output_type": "execute_result"
    }
   ],
   "source": [
    "## \n",
    "\"\"\"\n",
    "Your code here (optional)\n",
    "確認硬體資源\n",
    "\"\"\"\n"
   ]
  },
  {
   "cell_type": "code",
   "execution_count": 2,
   "metadata": {},
   "outputs": [
    {
     "name": "stderr",
     "output_type": "stream",
     "text": [
      "Using TensorFlow backend.\n"
     ]
    }
   ],
   "source": [
    "import os\n",
    "import keras\n",
    "\n",
    "# 請嘗試設定 GPU：os.environ\n"
   ]
  },
  {
   "cell_type": "code",
   "execution_count": 3,
   "metadata": {},
   "outputs": [],
   "source": [
    "train, test = keras.datasets.cifar10.load_data()"
   ]
  },
  {
   "cell_type": "code",
   "execution_count": 4,
   "metadata": {},
   "outputs": [],
   "source": [
    "## 資料前處理\n",
    "\"\"\"\n",
    "Your code here\n",
    "\"\"\"\n",
    "import numpy as np\n",
    "\n",
    "def preproc_x(x, flatten=True):\n",
    "    x = ((x/255)-0.5)*2    \n",
    "    if flatten:\n",
    "        x = x.reshape(len(x), -1)\n",
    "    return x\n",
    "\n",
    "def preproc_y(y, num_classes=10):\n",
    "    if y.shape[-1] == 1:\n",
    "        y = keras.utils.to_categorical(y, num_classes=num_classes)\n",
    "    return y"
   ]
  },
  {
   "cell_type": "code",
   "execution_count": 5,
   "metadata": {},
   "outputs": [],
   "source": [
    "x_train, y_train = train\n",
    "x_test, y_test = test\n",
    "\n",
    "# Preproc the inputs\n",
    "x_train = preproc_x(x_train)\n",
    "x_test = preproc_x(x_test)\n",
    "\n",
    "# Preprc the outputs\n",
    "y_train = preproc_y(y_train)\n",
    "y_test = preproc_y(y_test)"
   ]
  },
  {
   "cell_type": "code",
   "execution_count": 7,
   "metadata": {},
   "outputs": [
    {
     "name": "stdout",
     "output_type": "stream",
     "text": [
      "WARNING:tensorflow:From C:\\ProgramData\\Anaconda3\\lib\\site-packages\\keras\\backend\\tensorflow_backend.py:74: The name tf.get_default_graph is deprecated. Please use tf.compat.v1.get_default_graph instead.\n",
      "\n",
      "WARNING:tensorflow:From C:\\ProgramData\\Anaconda3\\lib\\site-packages\\keras\\backend\\tensorflow_backend.py:517: The name tf.placeholder is deprecated. Please use tf.compat.v1.placeholder instead.\n",
      "\n",
      "WARNING:tensorflow:From C:\\ProgramData\\Anaconda3\\lib\\site-packages\\keras\\backend\\tensorflow_backend.py:4138: The name tf.random_uniform is deprecated. Please use tf.random.uniform instead.\n",
      "\n",
      "_________________________________________________________________\n",
      "Layer (type)                 Output Shape              Param #   \n",
      "=================================================================\n",
      "input_1 (InputLayer)         (None, 3072)              0         \n",
      "_________________________________________________________________\n",
      "hidden_layer1 (Dense)        (None, 512)               1573376   \n",
      "_________________________________________________________________\n",
      "hidden_layer2 (Dense)        (None, 256)               131328    \n",
      "_________________________________________________________________\n",
      "hidden_layer3 (Dense)        (None, 256)               65792     \n",
      "_________________________________________________________________\n",
      "hidden_layer4 (Dense)        (None, 128)               32896     \n",
      "_________________________________________________________________\n",
      "hidden_layer5 (Dense)        (None, 128)               16512     \n",
      "_________________________________________________________________\n",
      "hidden_layer6 (Dense)        (None, 64)                8256      \n",
      "_________________________________________________________________\n",
      "hidden_layer7 (Dense)        (None, 64)                4160      \n",
      "_________________________________________________________________\n",
      "hidden_layer8 (Dense)        (None, 32)                2080      \n",
      "_________________________________________________________________\n",
      "output (Dense)               (None, 10)                330       \n",
      "=================================================================\n",
      "Total params: 1,834,730\n",
      "Trainable params: 1,834,730\n",
      "Non-trainable params: 0\n",
      "_________________________________________________________________\n"
     ]
    }
   ],
   "source": [
    "\"\"\"Code Here\n",
    "建立你的神經網路\n",
    "\"\"\"\n",
    "def build_mlp(input_shape, output_units=10, num_neurons=[512, 256, 256, 128, 128, 64, 64, 32]):\n",
    "    input_layer = keras.layers.Input(input_shape)\n",
    "\n",
    "    for i, n_units in enumerate(num_neurons):\n",
    "        if i == 0:\n",
    "          x = keras.layers.Dense(units=n_units, activation='relu', name='hidden_layer'+str(i+1))(input_layer)\n",
    "        else:\n",
    "          x = keras.layers.Dense(units=n_units, activation='relu', name='hidden_layer'+str(i+1))(x)\n",
    "    \n",
    "    output_layer = keras.layers.Dense(units=output_units, activation='softmax', name='output')(x)\n",
    "    model = keras.models.Model(inputs=[input_layer], outputs=[output_layer])\n",
    "    return model\n",
    "\n",
    "model = build_mlp(input_shape=x_train.shape[1:])\n",
    "model.summary()"
   ]
  },
  {
   "cell_type": "code",
   "execution_count": 8,
   "metadata": {},
   "outputs": [],
   "source": [
    "## 超參數設定\n",
    "LEARNING_RATE = 0.001\n",
    "EPOCHS = 100\n",
    "BATCH_SIZE = 256"
   ]
  },
  {
   "cell_type": "code",
   "execution_count": 9,
   "metadata": {},
   "outputs": [
    {
     "name": "stdout",
     "output_type": "stream",
     "text": [
      "WARNING:tensorflow:From C:\\ProgramData\\Anaconda3\\lib\\site-packages\\keras\\optimizers.py:790: The name tf.train.Optimizer is deprecated. Please use tf.compat.v1.train.Optimizer instead.\n",
      "\n",
      "WARNING:tensorflow:From C:\\ProgramData\\Anaconda3\\lib\\site-packages\\keras\\backend\\tensorflow_backend.py:3295: The name tf.log is deprecated. Please use tf.math.log instead.\n",
      "\n"
     ]
    }
   ],
   "source": [
    "optimizer = keras.optimizers.Adam(lr=LEARNING_RATE)\n",
    "model.compile(loss=\"categorical_crossentropy\", metrics=[\"accuracy\"], optimizer=optimizer)"
   ]
  },
  {
   "cell_type": "code",
   "execution_count": 10,
   "metadata": {},
   "outputs": [
    {
     "name": "stdout",
     "output_type": "stream",
     "text": [
      "WARNING:tensorflow:From C:\\ProgramData\\Anaconda3\\lib\\site-packages\\tensorflow\\python\\ops\\math_grad.py:1250: add_dispatch_support.<locals>.wrapper (from tensorflow.python.ops.array_ops) is deprecated and will be removed in a future version.\n",
      "Instructions for updating:\n",
      "Use tf.where in 2.0, which has the same broadcast rule as np.where\n",
      "WARNING:tensorflow:From C:\\ProgramData\\Anaconda3\\lib\\site-packages\\keras\\backend\\tensorflow_backend.py:986: The name tf.assign_add is deprecated. Please use tf.compat.v1.assign_add instead.\n",
      "\n",
      "Train on 50000 samples, validate on 10000 samples\n",
      "Epoch 1/100\n",
      "50000/50000 [==============================] - 33s 670us/step - loss: 1.7485 - acc: 0.3731 - val_loss: 1.6064 - val_acc: 0.4238\n",
      "Epoch 2/100\n",
      "50000/50000 [==============================] - 25s 506us/step - loss: 1.5083 - acc: 0.4677 - val_loss: 1.4847 - val_acc: 0.4831\n",
      "Epoch 3/100\n",
      "50000/50000 [==============================] - 28s 555us/step - loss: 1.3828 - acc: 0.5118 - val_loss: 1.3959 - val_acc: 0.5118\n",
      "Epoch 4/100\n",
      "50000/50000 [==============================] - 38s 754us/step - loss: 1.2855 - acc: 0.5453 - val_loss: 1.3555 - val_acc: 0.5260\n",
      "Epoch 5/100\n",
      "50000/50000 [==============================] - 36s 718us/step - loss: 1.2023 - acc: 0.5767 - val_loss: 1.3625 - val_acc: 0.5219\n",
      "Epoch 6/100\n",
      "50000/50000 [==============================] - 33s 661us/step - loss: 1.1292 - acc: 0.6017 - val_loss: 1.3688 - val_acc: 0.5267\n",
      "Epoch 7/100\n",
      "50000/50000 [==============================] - 28s 565us/step - loss: 1.0566 - acc: 0.6287 - val_loss: 1.3619 - val_acc: 0.5275\n",
      "Epoch 8/100\n",
      "50000/50000 [==============================] - 27s 538us/step - loss: 0.9832 - acc: 0.6543 - val_loss: 1.3506 - val_acc: 0.5446\n",
      "Epoch 9/100\n",
      "50000/50000 [==============================] - 34s 671us/step - loss: 0.9060 - acc: 0.6785 - val_loss: 1.4026 - val_acc: 0.5360\n",
      "Epoch 10/100\n",
      "50000/50000 [==============================] - 34s 690us/step - loss: 0.8447 - acc: 0.7012 - val_loss: 1.4328 - val_acc: 0.5475\n",
      "Epoch 11/100\n",
      "50000/50000 [==============================] - 32s 636us/step - loss: 0.7799 - acc: 0.7260 - val_loss: 1.4569 - val_acc: 0.5434\n",
      "Epoch 12/100\n",
      "50000/50000 [==============================] - 31s 619us/step - loss: 0.7176 - acc: 0.7461 - val_loss: 1.5021 - val_acc: 0.5442\n",
      "Epoch 13/100\n",
      "50000/50000 [==============================] - 32s 645us/step - loss: 0.6542 - acc: 0.7687 - val_loss: 1.5847 - val_acc: 0.5365\n",
      "Epoch 14/100\n",
      "50000/50000 [==============================] - 33s 653us/step - loss: 0.6008 - acc: 0.7896 - val_loss: 1.6414 - val_acc: 0.5275\n",
      "Epoch 15/100\n",
      "50000/50000 [==============================] - 30s 599us/step - loss: 0.5569 - acc: 0.8044 - val_loss: 1.7141 - val_acc: 0.5367\n",
      "Epoch 16/100\n",
      "50000/50000 [==============================] - 33s 667us/step - loss: 0.5090 - acc: 0.8206 - val_loss: 1.7479 - val_acc: 0.5370\n",
      "Epoch 17/100\n",
      "50000/50000 [==============================] - 35s 694us/step - loss: 0.4706 - acc: 0.8336 - val_loss: 1.8058 - val_acc: 0.5381\n",
      "Epoch 18/100\n",
      "50000/50000 [==============================] - 30s 604us/step - loss: 0.4259 - acc: 0.8499 - val_loss: 1.9220 - val_acc: 0.5444\n",
      "Epoch 19/100\n",
      "50000/50000 [==============================] - 38s 760us/step - loss: 0.3909 - acc: 0.8638 - val_loss: 2.0369 - val_acc: 0.5365\n",
      "Epoch 20/100\n",
      "50000/50000 [==============================] - 30s 606us/step - loss: 0.3591 - acc: 0.8739 - val_loss: 2.0540 - val_acc: 0.5363\n",
      "Epoch 21/100\n",
      "50000/50000 [==============================] - 30s 609us/step - loss: 0.3371 - acc: 0.8835 - val_loss: 2.1907 - val_acc: 0.5425\n",
      "Epoch 22/100\n",
      "50000/50000 [==============================] - 33s 656us/step - loss: 0.3146 - acc: 0.8892 - val_loss: 2.2619 - val_acc: 0.5411\n",
      "Epoch 23/100\n",
      "50000/50000 [==============================] - 37s 735us/step - loss: 0.2956 - acc: 0.8973 - val_loss: 2.2993 - val_acc: 0.5413\n",
      "Epoch 24/100\n",
      "50000/50000 [==============================] - 33s 668us/step - loss: 0.2678 - acc: 0.9063 - val_loss: 2.3563 - val_acc: 0.5361\n",
      "Epoch 25/100\n",
      "50000/50000 [==============================] - 32s 639us/step - loss: 0.2679 - acc: 0.9078 - val_loss: 2.4003 - val_acc: 0.5345\n",
      "Epoch 26/100\n",
      "50000/50000 [==============================] - 33s 665us/step - loss: 0.2456 - acc: 0.9161 - val_loss: 2.5647 - val_acc: 0.5220\n",
      "Epoch 27/100\n",
      "50000/50000 [==============================] - 29s 582us/step - loss: 0.2416 - acc: 0.9160 - val_loss: 2.5048 - val_acc: 0.5258\n",
      "Epoch 28/100\n",
      "50000/50000 [==============================] - 40s 806us/step - loss: 0.2157 - acc: 0.9265 - val_loss: 2.7181 - val_acc: 0.5332\n",
      "Epoch 29/100\n",
      "50000/50000 [==============================] - 30s 607us/step - loss: 0.2110 - acc: 0.9282 - val_loss: 2.6481 - val_acc: 0.5321\n",
      "Epoch 30/100\n",
      "50000/50000 [==============================] - 35s 700us/step - loss: 0.2044 - acc: 0.9306 - val_loss: 2.6934 - val_acc: 0.5402\n",
      "Epoch 31/100\n",
      "50000/50000 [==============================] - 34s 676us/step - loss: 0.1860 - acc: 0.9369 - val_loss: 2.8121 - val_acc: 0.5318\n",
      "Epoch 32/100\n",
      "50000/50000 [==============================] - 36s 716us/step - loss: 0.1833 - acc: 0.9380 - val_loss: 2.7656 - val_acc: 0.5290\n",
      "Epoch 33/100\n",
      "50000/50000 [==============================] - 32s 645us/step - loss: 0.1714 - acc: 0.9411 - val_loss: 2.9615 - val_acc: 0.5310\n",
      "Epoch 34/100\n",
      "50000/50000 [==============================] - 33s 665us/step - loss: 0.1756 - acc: 0.9412 - val_loss: 2.7650 - val_acc: 0.5293\n",
      "Epoch 35/100\n",
      "50000/50000 [==============================] - 32s 646us/step - loss: 0.1626 - acc: 0.9447 - val_loss: 2.9381 - val_acc: 0.5300\n",
      "Epoch 36/100\n",
      "50000/50000 [==============================] - 37s 747us/step - loss: 0.1522 - acc: 0.9485 - val_loss: 2.7981 - val_acc: 0.5415\n",
      "Epoch 37/100\n",
      "50000/50000 [==============================] - 35s 691us/step - loss: 0.1501 - acc: 0.9490 - val_loss: 2.9645 - val_acc: 0.5396\n",
      "Epoch 38/100\n",
      "50000/50000 [==============================] - 37s 731us/step - loss: 0.1458 - acc: 0.9509 - val_loss: 2.8325 - val_acc: 0.5390\n",
      "Epoch 39/100\n",
      "50000/50000 [==============================] - 37s 738us/step - loss: 0.1529 - acc: 0.9484 - val_loss: 2.7990 - val_acc: 0.5357\n",
      "Epoch 40/100\n",
      "50000/50000 [==============================] - 35s 706us/step - loss: 0.1337 - acc: 0.9548 - val_loss: 2.9371 - val_acc: 0.5369\n",
      "Epoch 41/100\n",
      "50000/50000 [==============================] - 35s 708us/step - loss: 0.1275 - acc: 0.9580 - val_loss: 3.1952 - val_acc: 0.5300\n",
      "Epoch 42/100\n",
      "50000/50000 [==============================] - 35s 692us/step - loss: 0.1335 - acc: 0.9549 - val_loss: 2.9688 - val_acc: 0.5269\n",
      "Epoch 43/100\n",
      "50000/50000 [==============================] - 35s 701us/step - loss: 0.1269 - acc: 0.9589 - val_loss: 3.1775 - val_acc: 0.5290\n",
      "Epoch 44/100\n",
      "50000/50000 [==============================] - 36s 728us/step - loss: 0.1272 - acc: 0.9582 - val_loss: 3.0157 - val_acc: 0.5247\n",
      "Epoch 45/100\n",
      "50000/50000 [==============================] - 36s 727us/step - loss: 0.1237 - acc: 0.9582 - val_loss: 3.2853 - val_acc: 0.5340\n",
      "Epoch 46/100\n",
      "50000/50000 [==============================] - 35s 705us/step - loss: 0.1234 - acc: 0.9581 - val_loss: 3.2296 - val_acc: 0.5353\n",
      "Epoch 47/100\n",
      "50000/50000 [==============================] - 35s 705us/step - loss: 0.1114 - acc: 0.9629 - val_loss: 3.1930 - val_acc: 0.5396\n",
      "Epoch 48/100\n",
      "50000/50000 [==============================] - 35s 694us/step - loss: 0.1086 - acc: 0.9644 - val_loss: 3.3602 - val_acc: 0.5342\n",
      "Epoch 49/100\n",
      "50000/50000 [==============================] - 39s 771us/step - loss: 0.1244 - acc: 0.9588 - val_loss: 3.1413 - val_acc: 0.5277\n",
      "Epoch 50/100\n",
      "50000/50000 [==============================] - 31s 615us/step - loss: 0.1173 - acc: 0.9608 - val_loss: 3.0757 - val_acc: 0.5354\n",
      "Epoch 51/100\n",
      "50000/50000 [==============================] - 33s 666us/step - loss: 0.1139 - acc: 0.9620 - val_loss: 3.1190 - val_acc: 0.5250\n",
      "Epoch 52/100\n",
      "50000/50000 [==============================] - 36s 727us/step - loss: 0.1102 - acc: 0.9631 - val_loss: 3.3185 - val_acc: 0.5321\n",
      "Epoch 53/100\n",
      "50000/50000 [==============================] - 33s 663us/step - loss: 0.1007 - acc: 0.9669 - val_loss: 3.2650 - val_acc: 0.5314\n",
      "Epoch 54/100\n",
      "50000/50000 [==============================] - 35s 700us/step - loss: 0.1045 - acc: 0.9660 - val_loss: 3.1826 - val_acc: 0.5340\n",
      "Epoch 55/100\n"
     ]
    },
    {
     "name": "stdout",
     "output_type": "stream",
     "text": [
      "50000/50000 [==============================] - 33s 669us/step - loss: 0.0985 - acc: 0.9674 - val_loss: 3.2716 - val_acc: 0.5355\n",
      "Epoch 56/100\n",
      "50000/50000 [==============================] - 35s 696us/step - loss: 0.0997 - acc: 0.9680 - val_loss: 3.2184 - val_acc: 0.5242\n",
      "Epoch 57/100\n",
      "50000/50000 [==============================] - 32s 647us/step - loss: 0.0880 - acc: 0.9707 - val_loss: 3.3497 - val_acc: 0.5329\n",
      "Epoch 58/100\n",
      "50000/50000 [==============================] - 34s 686us/step - loss: 0.0990 - acc: 0.9681 - val_loss: 3.1546 - val_acc: 0.5304\n",
      "Epoch 59/100\n",
      "50000/50000 [==============================] - 37s 735us/step - loss: 0.0912 - acc: 0.9710 - val_loss: 3.2714 - val_acc: 0.5336\n",
      "Epoch 60/100\n",
      "50000/50000 [==============================] - 34s 688us/step - loss: 0.0878 - acc: 0.9715 - val_loss: 3.3600 - val_acc: 0.5316\n",
      "Epoch 61/100\n",
      "50000/50000 [==============================] - 36s 727us/step - loss: 0.0923 - acc: 0.9695 - val_loss: 3.2893 - val_acc: 0.5254\n",
      "Epoch 62/100\n",
      "50000/50000 [==============================] - 27s 547us/step - loss: 0.1035 - acc: 0.9658 - val_loss: 3.2076 - val_acc: 0.5287\n",
      "Epoch 63/100\n",
      "50000/50000 [==============================] - 17s 344us/step - loss: 0.0897 - acc: 0.9705 - val_loss: 3.1900 - val_acc: 0.5343\n",
      "Epoch 64/100\n",
      "50000/50000 [==============================] - 18s 367us/step - loss: 0.0938 - acc: 0.9706 - val_loss: 3.0441 - val_acc: 0.5350\n",
      "Epoch 65/100\n",
      "50000/50000 [==============================] - 16s 321us/step - loss: 0.0758 - acc: 0.9757 - val_loss: 3.2666 - val_acc: 0.5321\n",
      "Epoch 66/100\n",
      "50000/50000 [==============================] - 18s 363us/step - loss: 0.0831 - acc: 0.9728 - val_loss: 3.2114 - val_acc: 0.5370\n",
      "Epoch 67/100\n",
      "50000/50000 [==============================] - 18s 357us/step - loss: 0.0869 - acc: 0.9722 - val_loss: 3.1096 - val_acc: 0.5286\n",
      "Epoch 68/100\n",
      "50000/50000 [==============================] - 19s 387us/step - loss: 0.0760 - acc: 0.9757 - val_loss: 3.2819 - val_acc: 0.5308\n",
      "Epoch 69/100\n",
      "50000/50000 [==============================] - 20s 399us/step - loss: 0.0813 - acc: 0.9740 - val_loss: 3.3102 - val_acc: 0.5345\n",
      "Epoch 70/100\n",
      "50000/50000 [==============================] - 20s 391us/step - loss: 0.0817 - acc: 0.9734 - val_loss: 3.2628 - val_acc: 0.5337\n",
      "Epoch 71/100\n",
      "50000/50000 [==============================] - 18s 366us/step - loss: 0.0788 - acc: 0.9752 - val_loss: 3.3589 - val_acc: 0.5353\n",
      "Epoch 72/100\n",
      "50000/50000 [==============================] - 17s 344us/step - loss: 0.0827 - acc: 0.9735 - val_loss: 3.1821 - val_acc: 0.5281 1s - loss: 0.080\n",
      "Epoch 73/100\n",
      "50000/50000 [==============================] - 17s 347us/step - loss: 0.0775 - acc: 0.9755 - val_loss: 3.2732 - val_acc: 0.5329\n",
      "Epoch 74/100\n",
      "50000/50000 [==============================] - 18s 362us/step - loss: 0.0657 - acc: 0.9790 - val_loss: 3.4726 - val_acc: 0.5382\n",
      "Epoch 75/100\n",
      "50000/50000 [==============================] - 18s 358us/step - loss: 0.0764 - acc: 0.9755 - val_loss: 3.4573 - val_acc: 0.5336\n",
      "Epoch 76/100\n",
      "50000/50000 [==============================] - 19s 374us/step - loss: 0.0716 - acc: 0.9767 - val_loss: 3.3579 - val_acc: 0.5364\n",
      "Epoch 77/100\n",
      "50000/50000 [==============================] - 20s 396us/step - loss: 0.0704 - acc: 0.9771 - val_loss: 3.4845 - val_acc: 0.5314\n",
      "Epoch 78/100\n",
      "50000/50000 [==============================] - 18s 366us/step - loss: 0.0719 - acc: 0.9772 - val_loss: 3.4240 - val_acc: 0.5305\n",
      "Epoch 79/100\n",
      "50000/50000 [==============================] - 19s 375us/step - loss: 0.0753 - acc: 0.9760 - val_loss: 3.3862 - val_acc: 0.5331\n",
      "Epoch 80/100\n",
      "50000/50000 [==============================] - 17s 343us/step - loss: 0.0687 - acc: 0.9780 - val_loss: 3.2399 - val_acc: 0.5290\n",
      "Epoch 81/100\n",
      "50000/50000 [==============================] - 18s 354us/step - loss: 0.0840 - acc: 0.9726 - val_loss: 3.1289 - val_acc: 0.5409\n",
      "Epoch 82/100\n",
      "50000/50000 [==============================] - 17s 335us/step - loss: 0.0593 - acc: 0.9811 - val_loss: 3.5725 - val_acc: 0.5423\n",
      "Epoch 83/100\n",
      "50000/50000 [==============================] - 19s 386us/step - loss: 0.0711 - acc: 0.9775 - val_loss: 3.2383 - val_acc: 0.5355\n",
      "Epoch 84/100\n",
      "50000/50000 [==============================] - 18s 363us/step - loss: 0.0652 - acc: 0.9793 - val_loss: 3.5524 - val_acc: 0.5319\n",
      "Epoch 85/100\n",
      "50000/50000 [==============================] - 19s 370us/step - loss: 0.0760 - acc: 0.9757 - val_loss: 3.5883 - val_acc: 0.5392\n",
      "Epoch 86/100\n",
      "50000/50000 [==============================] - 18s 370us/step - loss: 0.0641 - acc: 0.9794 - val_loss: 3.3353 - val_acc: 0.5322\n",
      "Epoch 87/100\n",
      "50000/50000 [==============================] - 20s 397us/step - loss: 0.0671 - acc: 0.9786 - val_loss: 3.3838 - val_acc: 0.5443\n",
      "Epoch 88/100\n",
      "50000/50000 [==============================] - 20s 392us/step - loss: 0.0717 - acc: 0.9780 - val_loss: 3.1806 - val_acc: 0.5345\n",
      "Epoch 89/100\n",
      "50000/50000 [==============================] - 19s 381us/step - loss: 0.0625 - acc: 0.9801 - val_loss: 3.5387 - val_acc: 0.5339\n",
      "Epoch 90/100\n",
      "50000/50000 [==============================] - 17s 349us/step - loss: 0.0578 - acc: 0.9825 - val_loss: 3.5178 - val_acc: 0.5375\n",
      "Epoch 91/100\n",
      "50000/50000 [==============================] - 18s 353us/step - loss: 0.0672 - acc: 0.9795 - val_loss: 3.2096 - val_acc: 0.5344\n",
      "Epoch 92/100\n",
      "50000/50000 [==============================] - 19s 370us/step - loss: 0.0585 - acc: 0.9819 - val_loss: 3.6278 - val_acc: 0.5324\n",
      "Epoch 93/100\n",
      "50000/50000 [==============================] - 17s 342us/step - loss: 0.0571 - acc: 0.9819 - val_loss: 3.3755 - val_acc: 0.5349\n",
      "Epoch 94/100\n",
      "50000/50000 [==============================] - 17s 348us/step - loss: 0.0690 - acc: 0.9775 - val_loss: 3.4018 - val_acc: 0.5294\n",
      "Epoch 95/100\n",
      "50000/50000 [==============================] - 19s 371us/step - loss: 0.0622 - acc: 0.9803 - val_loss: 3.6030 - val_acc: 0.5333\n",
      "Epoch 96/100\n",
      "50000/50000 [==============================] - 20s 391us/step - loss: 0.0644 - acc: 0.9792 - val_loss: 3.4854 - val_acc: 0.5329\n",
      "Epoch 97/100\n",
      "50000/50000 [==============================] - 20s 395us/step - loss: 0.0548 - acc: 0.9827 - val_loss: 3.4732 - val_acc: 0.5366\n",
      "Epoch 98/100\n",
      "50000/50000 [==============================] - 17s 337us/step - loss: 0.0485 - acc: 0.9847 - val_loss: 3.6477 - val_acc: 0.5384\n",
      "Epoch 99/100\n",
      "50000/50000 [==============================] - 18s 363us/step - loss: 0.0633 - acc: 0.9804 - val_loss: 3.3781 - val_acc: 0.5280\n",
      "Epoch 100/100\n",
      "50000/50000 [==============================] - 18s 363us/step - loss: 0.0534 - acc: 0.9829 - val_loss: 3.5343 - val_acc: 0.5322\n"
     ]
    },
    {
     "data": {
      "text/plain": [
       "<keras.callbacks.History at 0x21762a6f668>"
      ]
     },
     "execution_count": 10,
     "metadata": {},
     "output_type": "execute_result"
    }
   ],
   "source": [
    "model.fit(x_train, y_train, \n",
    "          epochs=EPOCHS, \n",
    "          batch_size=BATCH_SIZE, \n",
    "          validation_data=(x_test, y_test), \n",
    "          shuffle=True)"
   ]
  },
  {
   "cell_type": "code",
   "execution_count": 12,
   "metadata": {},
   "outputs": [
    {
     "data": {
      "image/png": "[encoded data removed]",
      "text/plain": [
       "<Figure size 432x288 with 1 Axes>"
      ]
     },
     "metadata": {
      "needs_background": "light"
     },
     "output_type": "display_data"
    },
    {
     "data": {
      "image/png": "[encoded data removed]",
      "text/plain": [
       "<Figure size 432x288 with 1 Axes>"
      ]
     },
     "metadata": {
      "needs_background": "light"
     },
     "output_type": "display_data"
    }
   ],
   "source": [
    "import matplotlib.pyplot as plt\n",
    "\n",
    "\n",
    "train_loss = model.history.history[\"loss\"]\n",
    "valid_loss = model.history.history[\"val_loss\"]\n",
    "\n",
    "train_acc = model.history.history[\"acc\"]\n",
    "valid_acc = model.history.history[\"val_acc\"]\n",
    "\n",
    "plt.plot(range(len(train_loss)), train_loss, label=\"train loss\")\n",
    "plt.plot(range(len(valid_loss)), valid_loss, label=\"valid loss\")\n",
    "plt.legend()\n",
    "plt.title(\"Loss\")\n",
    "plt.show()\n",
    "\n",
    "plt.plot(range(len(train_acc)), train_acc, label=\"train accuracy\")\n",
    "plt.plot(range(len(valid_acc)), valid_acc, label=\"valid accuracy\")\n",
    "plt.legend()\n",
    "plt.title(\"Accuracy\")\n",
    "plt.show()"
   ]
  },
  {
   "cell_type": "code",
   "execution_count": null,
   "metadata": {},
   "outputs": [],
   "source": []
  }
 ],
 "metadata": {
  "kernelspec": {
   "display_name": "Python 3",
   "language": "python",
   "name": "python3"
  },
  "language_info": {
   "codemirror_mode": {
    "name": "ipython",
    "version": 3
   },
   "file_extension": ".py",
   "mimetype": "text/x-python",
   "name": "python",
   "nbconvert_exporter": "python",
   "pygments_lexer": "ipython3",
   "version": "3.7.3"
  }
 },
 "nbformat": 4,
 "nbformat_minor": 2
}
