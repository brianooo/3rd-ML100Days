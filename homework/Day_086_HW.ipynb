{
 "cells": [
  {
   "cell_type": "markdown",
   "metadata": {},
   "source": [
    "## Work\n",
    "1. 試比較 save_best_only 與否的差異\n",
    "2. 請僅存入將 save_weights_only 設定為 True, 並嘗試 reset ipynb 並將模型與權重重新建回並預測 x_test"
   ]
  },
  {
   "cell_type": "code",
   "execution_count": 1,
   "metadata": {},
   "outputs": [
    {
     "name": "stderr",
     "output_type": "stream",
     "text": [
      "Using TensorFlow backend.\n"
     ]
    }
   ],
   "source": [
    "import os\n",
    "import keras\n",
    "\n",
    "# Disable GPU\n",
    "os.environ[\"CUDA_VISIBLE_DEVICES\"] = \"\""
   ]
  },
  {
   "cell_type": "code",
   "execution_count": 2,
   "metadata": {},
   "outputs": [],
   "source": [
    "train, test = keras.datasets.cifar10.load_data()"
   ]
  },
  {
   "cell_type": "code",
   "execution_count": 3,
   "metadata": {},
   "outputs": [],
   "source": [
    "## 資料前處理\n",
    "def preproc_x(x, flatten=True):\n",
    "    x = x / 255.\n",
    "    if flatten:\n",
    "        x = x.reshape((len(x), -1))\n",
    "    return x\n",
    "\n",
    "def preproc_y(y, num_classes=10):\n",
    "    if y.shape[-1] == 1:\n",
    "        y = keras.utils.to_categorical(y, num_classes)\n",
    "    return y    "
   ]
  },
  {
   "cell_type": "code",
   "execution_count": 4,
   "metadata": {},
   "outputs": [],
   "source": [
    "x_train, y_train = train\n",
    "x_test, y_test = test\n",
    "\n",
    "# Preproc the inputs\n",
    "x_train = preproc_x(x_train)\n",
    "x_test = preproc_x(x_test)\n",
    "\n",
    "# Preprc the outputs\n",
    "y_train = preproc_y(y_train)\n",
    "y_test = preproc_y(y_test)"
   ]
  },
  {
   "cell_type": "code",
   "execution_count": 5,
   "metadata": {},
   "outputs": [],
   "source": [
    "from keras.layers import BatchNormalization\n",
    "\n",
    "def build_mlp(input_shape, output_units=10, num_neurons=[512, 256, 128]):\n",
    "    \"\"\"Code Here\n",
    "    建立你的神經網路\n",
    "    \"\"\"\n",
    "    input_layer = keras.layers.Input(input_shape)\n",
    "    \n",
    "    for i, n_units in enumerate(num_neurons):\n",
    "        if i == 0:\n",
    "            x = BatchNormalization()(input_layer)\n",
    "            x = keras.layers.Dense(units=n_units, \n",
    "                                   activation=\"relu\", \n",
    "                                   name=\"hidden_layer\"+str(i+1))(x)\n",
    "        else:\n",
    "            x = BatchNormalization()(x)\n",
    "            x = keras.layers.Dense(units=n_units, \n",
    "                                   activation=\"relu\", \n",
    "                                   name=\"hidden_layer\"+str(i+1))(x)\n",
    "    \n",
    "    out = keras.layers.Dense(units=output_units, activation=\"softmax\", name=\"output\")(x)\n",
    "    \n",
    "    model = keras.models.Model(inputs=[input_layer], outputs=[out])\n",
    "    return model"
   ]
  },
  {
   "cell_type": "code",
   "execution_count": 6,
   "metadata": {},
   "outputs": [],
   "source": [
    "\"\"\"Code Here\n",
    "設定超參數\n",
    "\"\"\"\n",
    "LEARNING_RATE = 1e-3\n",
    "EPOCHS = 50\n",
    "BATCH_SIZE = 1024\n",
    "MOMENTUM = 0.95"
   ]
  },
  {
   "cell_type": "markdown",
   "metadata": {},
   "source": [
    "1. 試比較 save_best_only 與否的差異"
   ]
  },
  {
   "cell_type": "code",
   "execution_count": 7,
   "metadata": {},
   "outputs": [
    {
     "name": "stdout",
     "output_type": "stream",
     "text": [
      "WARNING:tensorflow:From C:\\ProgramData\\Anaconda3\\lib\\site-packages\\keras\\backend\\tensorflow_backend.py:74: The name tf.get_default_graph is deprecated. Please use tf.compat.v1.get_default_graph instead.\n",
      "\n",
      "WARNING:tensorflow:From C:\\ProgramData\\Anaconda3\\lib\\site-packages\\keras\\backend\\tensorflow_backend.py:517: The name tf.placeholder is deprecated. Please use tf.compat.v1.placeholder instead.\n",
      "\n",
      "WARNING:tensorflow:From C:\\ProgramData\\Anaconda3\\lib\\site-packages\\keras\\backend\\tensorflow_backend.py:133: The name tf.placeholder_with_default is deprecated. Please use tf.compat.v1.placeholder_with_default instead.\n",
      "\n",
      "WARNING:tensorflow:From C:\\ProgramData\\Anaconda3\\lib\\site-packages\\keras\\backend\\tensorflow_backend.py:4138: The name tf.random_uniform is deprecated. Please use tf.random.uniform instead.\n",
      "\n",
      "_________________________________________________________________\n",
      "Layer (type)                 Output Shape              Param #   \n",
      "=================================================================\n",
      "input_1 (InputLayer)         (None, 3072)              0         \n",
      "_________________________________________________________________\n",
      "batch_normalization_1 (Batch (None, 3072)              12288     \n",
      "_________________________________________________________________\n",
      "hidden_layer1 (Dense)        (None, 512)               1573376   \n",
      "_________________________________________________________________\n",
      "batch_normalization_2 (Batch (None, 512)               2048      \n",
      "_________________________________________________________________\n",
      "hidden_layer2 (Dense)        (None, 256)               131328    \n",
      "_________________________________________________________________\n",
      "batch_normalization_3 (Batch (None, 256)               1024      \n",
      "_________________________________________________________________\n",
      "hidden_layer3 (Dense)        (None, 128)               32896     \n",
      "_________________________________________________________________\n",
      "output (Dense)               (None, 10)                1290      \n",
      "=================================================================\n",
      "Total params: 1,754,250\n",
      "Trainable params: 1,746,570\n",
      "Non-trainable params: 7,680\n",
      "_________________________________________________________________\n",
      "WARNING:tensorflow:From C:\\ProgramData\\Anaconda3\\lib\\site-packages\\keras\\optimizers.py:790: The name tf.train.Optimizer is deprecated. Please use tf.compat.v1.train.Optimizer instead.\n",
      "\n",
      "WARNING:tensorflow:From C:\\ProgramData\\Anaconda3\\lib\\site-packages\\keras\\backend\\tensorflow_backend.py:3295: The name tf.log is deprecated. Please use tf.math.log instead.\n",
      "\n",
      "WARNING:tensorflow:From C:\\ProgramData\\Anaconda3\\lib\\site-packages\\tensorflow\\python\\ops\\math_grad.py:1250: add_dispatch_support.<locals>.wrapper (from tensorflow.python.ops.array_ops) is deprecated and will be removed in a future version.\n",
      "Instructions for updating:\n",
      "Use tf.where in 2.0, which has the same broadcast rule as np.where\n",
      "Train on 50000 samples, validate on 10000 samples\n",
      "Epoch 1/50\n",
      "50000/50000 [==============================] - 20s 407us/step - loss: 2.2402 - acc: 0.2381 - val_loss: 1.8986 - val_acc: 0.3401\n",
      "Epoch 2/50\n",
      "50000/50000 [==============================] - 17s 334us/step - loss: 1.7750 - acc: 0.3785 - val_loss: 1.7318 - val_acc: 0.3964\n",
      "Epoch 3/50\n",
      "50000/50000 [==============================] - 21s 416us/step - loss: 1.6481 - acc: 0.4231 - val_loss: 1.6596 - val_acc: 0.4205\n",
      "Epoch 4/50\n",
      "50000/50000 [==============================] - 20s 396us/step - loss: 1.5722 - acc: 0.4497 - val_loss: 1.6117 - val_acc: 0.4363\n",
      "Epoch 5/50\n",
      "50000/50000 [==============================] - 20s 398us/step - loss: 1.5132 - acc: 0.4715 - val_loss: 1.5770 - val_acc: 0.4503\n",
      "Epoch 6/50\n",
      "50000/50000 [==============================] - 19s 385us/step - loss: 1.4648 - acc: 0.4890 - val_loss: 1.5501 - val_acc: 0.4597\n",
      "Epoch 7/50\n",
      "50000/50000 [==============================] - 19s 373us/step - loss: 1.4246 - acc: 0.5030 - val_loss: 1.5288 - val_acc: 0.4681\n",
      "Epoch 8/50\n",
      "50000/50000 [==============================] - 20s 392us/step - loss: 1.3874 - acc: 0.5165 - val_loss: 1.5110 - val_acc: 0.4705\n",
      "Epoch 9/50\n",
      "50000/50000 [==============================] - 23s 459us/step - loss: 1.3544 - acc: 0.5291 - val_loss: 1.4941 - val_acc: 0.4755\n",
      "Epoch 10/50\n",
      "50000/50000 [==============================] - 25s 500us/step - loss: 1.3231 - acc: 0.5402 - val_loss: 1.4816 - val_acc: 0.4805\n",
      "Epoch 11/50\n",
      "50000/50000 [==============================] - 22s 442us/step - loss: 1.2942 - acc: 0.5519 - val_loss: 1.4712 - val_acc: 0.4833\n",
      "Epoch 12/50\n",
      "50000/50000 [==============================] - 21s 424us/step - loss: 1.2662 - acc: 0.5614 - val_loss: 1.4613 - val_acc: 0.4844\n",
      "Epoch 13/50\n",
      "50000/50000 [==============================] - 18s 364us/step - loss: 1.2412 - acc: 0.5726 - val_loss: 1.4535 - val_acc: 0.4872\n",
      "Epoch 14/50\n",
      "50000/50000 [==============================] - 17s 335us/step - loss: 1.2141 - acc: 0.5817 - val_loss: 1.4449 - val_acc: 0.4912\n",
      "Epoch 15/50\n",
      "50000/50000 [==============================] - 17s 339us/step - loss: 1.1918 - acc: 0.5920 - val_loss: 1.4388 - val_acc: 0.4933\n",
      "Epoch 16/50\n",
      "50000/50000 [==============================] - 17s 340us/step - loss: 1.1663 - acc: 0.6013 - val_loss: 1.4338 - val_acc: 0.4938\n",
      "Epoch 17/50\n",
      "50000/50000 [==============================] - 17s 333us/step - loss: 1.1424 - acc: 0.6096 - val_loss: 1.4299 - val_acc: 0.4953\n",
      "Epoch 18/50\n",
      "50000/50000 [==============================] - 17s 337us/step - loss: 1.1197 - acc: 0.6171 - val_loss: 1.4240 - val_acc: 0.4992\n",
      "Epoch 19/50\n",
      "50000/50000 [==============================] - 17s 341us/step - loss: 1.0967 - acc: 0.6275 - val_loss: 1.4238 - val_acc: 0.4983\n",
      "Epoch 20/50\n",
      "50000/50000 [==============================] - 17s 343us/step - loss: 1.0735 - acc: 0.6370 - val_loss: 1.4196 - val_acc: 0.5011\n",
      "Epoch 21/50\n",
      "50000/50000 [==============================] - 17s 343us/step - loss: 1.0525 - acc: 0.6441 - val_loss: 1.4181 - val_acc: 0.5009\n",
      "Epoch 22/50\n",
      "50000/50000 [==============================] - 18s 354us/step - loss: 1.0305 - acc: 0.6527 - val_loss: 1.4182 - val_acc: 0.5020\n",
      "Epoch 23/50\n",
      "50000/50000 [==============================] - 16s 328us/step - loss: 1.0080 - acc: 0.6606 - val_loss: 1.4150 - val_acc: 0.5037\n",
      "Epoch 24/50\n",
      "50000/50000 [==============================] - 17s 346us/step - loss: 0.9867 - acc: 0.6702 - val_loss: 1.4155 - val_acc: 0.5065\n",
      "Epoch 25/50\n",
      "50000/50000 [==============================] - 19s 372us/step - loss: 0.9667 - acc: 0.6765 - val_loss: 1.4183 - val_acc: 0.5040\n",
      "Epoch 26/50\n",
      "50000/50000 [==============================] - 16s 329us/step - loss: 0.9445 - acc: 0.6855 - val_loss: 1.4160 - val_acc: 0.5073\n",
      "Epoch 27/50\n",
      "50000/50000 [==============================] - 17s 341us/step - loss: 0.9228 - acc: 0.6946 - val_loss: 1.4189 - val_acc: 0.5069\n",
      "Epoch 28/50\n",
      "50000/50000 [==============================] - 18s 364us/step - loss: 0.9025 - acc: 0.7022 - val_loss: 1.4207 - val_acc: 0.5077\n",
      "Epoch 29/50\n",
      "50000/50000 [==============================] - 16s 330us/step - loss: 0.8813 - acc: 0.7097 - val_loss: 1.4224 - val_acc: 0.5086\n",
      "Epoch 30/50\n",
      "50000/50000 [==============================] - 18s 355us/step - loss: 0.8611 - acc: 0.7174 - val_loss: 1.4260 - val_acc: 0.5085\n",
      "Epoch 31/50\n",
      "50000/50000 [==============================] - 18s 361us/step - loss: 0.8403 - acc: 0.7266 - val_loss: 1.4291 - val_acc: 0.5096\n",
      "Epoch 32/50\n",
      "50000/50000 [==============================] - 18s 356us/step - loss: 0.8188 - acc: 0.7354 - val_loss: 1.4342 - val_acc: 0.5081\n",
      "Epoch 33/50\n",
      "50000/50000 [==============================] - 18s 364us/step - loss: 0.7990 - acc: 0.7453 - val_loss: 1.4396 - val_acc: 0.5104\n",
      "Epoch 34/50\n",
      "50000/50000 [==============================] - 18s 351us/step - loss: 0.7792 - acc: 0.7520 - val_loss: 1.4449 - val_acc: 0.5118\n",
      "Epoch 35/50\n",
      "50000/50000 [==============================] - 18s 356us/step - loss: 0.7591 - acc: 0.7590 - val_loss: 1.4475 - val_acc: 0.5119\n",
      "Epoch 36/50\n",
      "50000/50000 [==============================] - 18s 357us/step - loss: 0.7389 - acc: 0.7671 - val_loss: 1.4523 - val_acc: 0.5103\n",
      "Epoch 37/50\n",
      "50000/50000 [==============================] - 19s 378us/step - loss: 0.7193 - acc: 0.7762 - val_loss: 1.4596 - val_acc: 0.5127\n",
      "Epoch 38/50\n"
     ]
    },
    {
     "name": "stdout",
     "output_type": "stream",
     "text": [
      "50000/50000 [==============================] - 18s 351us/step - loss: 0.6996 - acc: 0.7837 - val_loss: 1.4671 - val_acc: 0.5107\n",
      "Epoch 39/50\n",
      "50000/50000 [==============================] - 18s 360us/step - loss: 0.6801 - acc: 0.7913 - val_loss: 1.4752 - val_acc: 0.5127\n",
      "Epoch 40/50\n",
      "50000/50000 [==============================] - 18s 353us/step - loss: 0.6617 - acc: 0.7990 - val_loss: 1.4809 - val_acc: 0.5107\n",
      "Epoch 41/50\n",
      "50000/50000 [==============================] - 18s 353us/step - loss: 0.6421 - acc: 0.8069 - val_loss: 1.4920 - val_acc: 0.5107\n",
      "Epoch 42/50\n",
      "50000/50000 [==============================] - 18s 363us/step - loss: 0.6224 - acc: 0.8151 - val_loss: 1.5011 - val_acc: 0.5074\n",
      "Epoch 43/50\n",
      "50000/50000 [==============================] - 18s 357us/step - loss: 0.6035 - acc: 0.8222 - val_loss: 1.5052 - val_acc: 0.5140\n",
      "Epoch 44/50\n",
      "50000/50000 [==============================] - 18s 369us/step - loss: 0.5845 - acc: 0.8298 - val_loss: 1.5156 - val_acc: 0.5105\n",
      "Epoch 45/50\n",
      "50000/50000 [==============================] - 18s 368us/step - loss: 0.5663 - acc: 0.8363 - val_loss: 1.5250 - val_acc: 0.5156\n",
      "Epoch 46/50\n",
      "50000/50000 [==============================] - 18s 366us/step - loss: 0.5481 - acc: 0.8439 - val_loss: 1.5332 - val_acc: 0.5158\n",
      "Epoch 47/50\n",
      "50000/50000 [==============================] - 20s 404us/step - loss: 0.5300 - acc: 0.8519 - val_loss: 1.5454 - val_acc: 0.5119\n",
      "Epoch 48/50\n",
      "50000/50000 [==============================] - 18s 362us/step - loss: 0.5117 - acc: 0.8594 - val_loss: 1.5596 - val_acc: 0.5103\n",
      "Epoch 49/50\n",
      "50000/50000 [==============================] - 17s 349us/step - loss: 0.4937 - acc: 0.8663 - val_loss: 1.5697 - val_acc: 0.5118\n",
      "Epoch 50/50\n",
      "50000/50000 [==============================] - 18s 359us/step - loss: 0.4765 - acc: 0.8727 - val_loss: 1.5814 - val_acc: 0.5094\n",
      "10000/10000 [==============================] - 3s 340us/step\n"
     ]
    }
   ],
   "source": [
    "# 載入 Callbacks\n",
    "\"\"\"Code Here\n",
    "設定 callbacks: model checkpoint\n",
    "\"\"\"\n",
    "from keras.callbacks import ModelCheckpoint\n",
    "\n",
    "model_ckpt = ModelCheckpoint(filepath=\"./tmp.h5\", \n",
    "                             monitor=\"val_loss\", \n",
    "                             save_best_only=False)\n",
    "\n",
    "results = {}\n",
    "\"\"\"Code Here\n",
    "撰寫你的訓練流程並將結果用 dictionary 紀錄\n",
    "\"\"\"\n",
    "model = build_mlp(input_shape=x_train.shape[1:])\n",
    "model.summary()\n",
    "optimizer = keras.optimizers.SGD(lr=LEARNING_RATE, nesterov=True, momentum=MOMENTUM)\n",
    "model.compile(loss=\"categorical_crossentropy\", metrics=[\"accuracy\"], optimizer=optimizer)\n",
    "\n",
    "model.fit(x_train, y_train, \n",
    "          epochs=EPOCHS, \n",
    "          batch_size=BATCH_SIZE, \n",
    "          validation_data=(x_test, y_test), \n",
    "          shuffle=True,\n",
    "          callbacks=[model_ckpt]\n",
    "         )\n",
    "\n",
    "# Collect results\n",
    "train_loss = model.history.history[\"loss\"]\n",
    "valid_loss = model.history.history[\"val_loss\"]\n",
    "train_acc = model.history.history[\"acc\"]\n",
    "valid_acc = model.history.history[\"val_acc\"]\n",
    "\n",
    "# Load back\n",
    "model = keras.models.load_model(\"./tmp.h5\")\n",
    "loss_loadback, acc_loadback = model.evaluate(x_test, y_test)"
   ]
  },
  {
   "cell_type": "code",
   "execution_count": 8,
   "metadata": {
    "scrolled": true
   },
   "outputs": [
    {
     "data": {
      "image/png": "[encoded data removed]",
      "text/plain": [
       "<Figure size 432x288 with 1 Axes>"
      ]
     },
     "metadata": {
      "needs_background": "light"
     },
     "output_type": "display_data"
    },
    {
     "data": {
      "image/png": "[encoded data removed]",
      "text/plain": [
       "<Figure size 432x288 with 1 Axes>"
      ]
     },
     "metadata": {
      "needs_background": "light"
     },
     "output_type": "display_data"
    }
   ],
   "source": [
    "import matplotlib.pyplot as plt\n",
    "%matplotlib inline\n",
    "\"\"\"Code Here\n",
    "將結果繪出\n",
    "\"\"\"\n",
    "\n",
    "plt.plot(range(len(train_loss)), train_loss, label=\"train loss\")\n",
    "plt.plot(range(len(valid_loss)), valid_loss, label=\"valid loss\")\n",
    "plt.hlines(y=loss_loadback, xmin=0, xmax=len(train_loss), colors='r', linestyles='--')\n",
    "plt.legend()\n",
    "plt.title(\"Loss\")\n",
    "plt.show()\n",
    "\n",
    "plt.plot(range(len(train_acc)), train_acc, label=\"train accuracy\")\n",
    "plt.plot(range(len(valid_acc)), valid_acc, label=\"valid accuracy\")\n",
    "plt.hlines(y=acc_loadback, xmin=0, xmax=len(train_loss), colors='r', linestyles='--')\n",
    "plt.legend()\n",
    "plt.title(\"Accuracy\")\n",
    "plt.show()"
   ]
  },
  {
   "cell_type": "markdown",
   "metadata": {},
   "source": [
    "2. 請僅存入將 save_weights_only 設定為 True, 並嘗試 reset ipynb 並將模型與權重重新建回並預測 x_test"
   ]
  },
  {
   "cell_type": "code",
   "execution_count": 13,
   "metadata": {},
   "outputs": [
    {
     "name": "stdout",
     "output_type": "stream",
     "text": [
      "_________________________________________________________________\n",
      "Layer (type)                 Output Shape              Param #   \n",
      "=================================================================\n",
      "input_6 (InputLayer)         (None, 3072)              0         \n",
      "_________________________________________________________________\n",
      "batch_normalization_16 (Batc (None, 3072)              12288     \n",
      "_________________________________________________________________\n",
      "hidden_layer1 (Dense)        (None, 512)               1573376   \n",
      "_________________________________________________________________\n",
      "batch_normalization_17 (Batc (None, 512)               2048      \n",
      "_________________________________________________________________\n",
      "hidden_layer2 (Dense)        (None, 256)               131328    \n",
      "_________________________________________________________________\n",
      "batch_normalization_18 (Batc (None, 256)               1024      \n",
      "_________________________________________________________________\n",
      "hidden_layer3 (Dense)        (None, 128)               32896     \n",
      "_________________________________________________________________\n",
      "output (Dense)               (None, 10)                1290      \n",
      "=================================================================\n",
      "Total params: 1,754,250\n",
      "Trainable params: 1,746,570\n",
      "Non-trainable params: 7,680\n",
      "_________________________________________________________________\n",
      "Train on 50000 samples, validate on 10000 samples\n",
      "Epoch 1/50\n",
      "50000/50000 [==============================] - 15s 296us/step - loss: 2.1866 - acc: 0.2491 - val_loss: 1.8780 - val_acc: 0.3416\n",
      "Epoch 2/50\n",
      "50000/50000 [==============================] - 12s 244us/step - loss: 1.7596 - acc: 0.3801 - val_loss: 1.7233 - val_acc: 0.3870\n",
      "Epoch 3/50\n",
      "50000/50000 [==============================] - 12s 244us/step - loss: 1.6394 - acc: 0.4246 - val_loss: 1.6509 - val_acc: 0.4135\n",
      "Epoch 4/50\n",
      "50000/50000 [==============================] - 12s 245us/step - loss: 1.5658 - acc: 0.4528 - val_loss: 1.6071 - val_acc: 0.4288\n",
      "Epoch 5/50\n",
      "50000/50000 [==============================] - 12s 244us/step - loss: 1.5093 - acc: 0.4738 - val_loss: 1.5733 - val_acc: 0.4438\n",
      "Epoch 6/50\n",
      "50000/50000 [==============================] - 12s 244us/step - loss: 1.4616 - acc: 0.4894 - val_loss: 1.5454 - val_acc: 0.4528\n",
      "Epoch 7/50\n",
      "50000/50000 [==============================] - 12s 245us/step - loss: 1.4205 - acc: 0.5038 - val_loss: 1.5248 - val_acc: 0.4614\n",
      "Epoch 8/50\n",
      "50000/50000 [==============================] - 12s 245us/step - loss: 1.3837 - acc: 0.5187 - val_loss: 1.5039 - val_acc: 0.4707\n",
      "Epoch 9/50\n",
      "50000/50000 [==============================] - 12s 245us/step - loss: 1.3501 - acc: 0.5310 - val_loss: 1.4885 - val_acc: 0.4777\n",
      "Epoch 10/50\n",
      "50000/50000 [==============================] - 12s 248us/step - loss: 1.3185 - acc: 0.5420 - val_loss: 1.4738 - val_acc: 0.4781\n",
      "Epoch 11/50\n",
      "50000/50000 [==============================] - 12s 249us/step - loss: 1.2888 - acc: 0.5546 - val_loss: 1.4621 - val_acc: 0.4841\n",
      "Epoch 12/50\n",
      "50000/50000 [==============================] - 12s 249us/step - loss: 1.2614 - acc: 0.5634 - val_loss: 1.4503 - val_acc: 0.4845\n",
      "Epoch 13/50\n",
      "50000/50000 [==============================] - 12s 246us/step - loss: 1.2350 - acc: 0.5745 - val_loss: 1.4438 - val_acc: 0.4881\n",
      "Epoch 14/50\n",
      "50000/50000 [==============================] - 12s 245us/step - loss: 1.2087 - acc: 0.5850 - val_loss: 1.4355 - val_acc: 0.4889\n",
      "Epoch 15/50\n",
      "50000/50000 [==============================] - 12s 246us/step - loss: 1.1852 - acc: 0.5930 - val_loss: 1.4286 - val_acc: 0.4914\n",
      "Epoch 16/50\n",
      "50000/50000 [==============================] - 12s 245us/step - loss: 1.1593 - acc: 0.6034 - val_loss: 1.4230 - val_acc: 0.4958\n",
      "Epoch 17/50\n",
      "50000/50000 [==============================] - 12s 246us/step - loss: 1.1361 - acc: 0.6121 - val_loss: 1.4186 - val_acc: 0.4988\n",
      "Epoch 18/50\n",
      "50000/50000 [==============================] - 13s 256us/step - loss: 1.1120 - acc: 0.6213 - val_loss: 1.4139 - val_acc: 0.5011\n",
      "Epoch 19/50\n",
      "50000/50000 [==============================] - 13s 253us/step - loss: 1.0899 - acc: 0.6291 - val_loss: 1.4089 - val_acc: 0.5033\n",
      "Epoch 20/50\n",
      "50000/50000 [==============================] - 12s 245us/step - loss: 1.0664 - acc: 0.6397 - val_loss: 1.4060 - val_acc: 0.5039\n",
      "Epoch 21/50\n",
      "50000/50000 [==============================] - 12s 246us/step - loss: 1.0438 - acc: 0.6473 - val_loss: 1.4046 - val_acc: 0.5054\n",
      "Epoch 22/50\n",
      "50000/50000 [==============================] - 12s 246us/step - loss: 1.0229 - acc: 0.6577 - val_loss: 1.4034 - val_acc: 0.5086\n",
      "Epoch 23/50\n",
      "50000/50000 [==============================] - 12s 245us/step - loss: 1.0013 - acc: 0.6641 - val_loss: 1.4028 - val_acc: 0.5082\n",
      "Epoch 24/50\n",
      "50000/50000 [==============================] - 12s 245us/step - loss: 0.9797 - acc: 0.6723 - val_loss: 1.4041 - val_acc: 0.5073\n",
      "Epoch 25/50\n",
      "50000/50000 [==============================] - 12s 245us/step - loss: 0.9587 - acc: 0.6815 - val_loss: 1.3996 - val_acc: 0.5097\n",
      "Epoch 26/50\n",
      "50000/50000 [==============================] - 12s 245us/step - loss: 0.9377 - acc: 0.6889 - val_loss: 1.4027 - val_acc: 0.5123\n",
      "Epoch 27/50\n",
      "50000/50000 [==============================] - 12s 246us/step - loss: 0.9154 - acc: 0.6986 - val_loss: 1.4056 - val_acc: 0.5123\n",
      "Epoch 28/50\n",
      "50000/50000 [==============================] - 12s 246us/step - loss: 0.8956 - acc: 0.7052 - val_loss: 1.4065 - val_acc: 0.5108\n",
      "Epoch 29/50\n",
      "50000/50000 [==============================] - 12s 248us/step - loss: 0.8762 - acc: 0.7136 - val_loss: 1.4087 - val_acc: 0.5120\n",
      "Epoch 30/50\n",
      "50000/50000 [==============================] - 12s 246us/step - loss: 0.8543 - acc: 0.7237 - val_loss: 1.4129 - val_acc: 0.5113\n",
      "Epoch 31/50\n",
      "50000/50000 [==============================] - 12s 247us/step - loss: 0.8341 - acc: 0.7308 - val_loss: 1.4146 - val_acc: 0.5090\n",
      "Epoch 32/50\n",
      "50000/50000 [==============================] - 12s 246us/step - loss: 0.8121 - acc: 0.7392 - val_loss: 1.4178 - val_acc: 0.5100\n",
      "Epoch 33/50\n",
      "50000/50000 [==============================] - 12s 246us/step - loss: 0.7917 - acc: 0.7481 - val_loss: 1.4232 - val_acc: 0.5125\n",
      "Epoch 34/50\n",
      "50000/50000 [==============================] - 12s 247us/step - loss: 0.7715 - acc: 0.7551 - val_loss: 1.4269 - val_acc: 0.5084\n",
      "Epoch 35/50\n",
      "50000/50000 [==============================] - 12s 246us/step - loss: 0.7519 - acc: 0.7649 - val_loss: 1.4320 - val_acc: 0.5098\n",
      "Epoch 36/50\n",
      "50000/50000 [==============================] - 13s 258us/step - loss: 0.7327 - acc: 0.7726 - val_loss: 1.4384 - val_acc: 0.5131\n",
      "Epoch 37/50\n",
      "50000/50000 [==============================] - 12s 248us/step - loss: 0.7121 - acc: 0.7809 - val_loss: 1.4477 - val_acc: 0.5067\n",
      "Epoch 38/50\n",
      "50000/50000 [==============================] - 13s 257us/step - loss: 0.6925 - acc: 0.7874 - val_loss: 1.4522 - val_acc: 0.5104\n",
      "Epoch 39/50\n",
      "50000/50000 [==============================] - 13s 262us/step - loss: 0.6722 - acc: 0.7969 - val_loss: 1.4614 - val_acc: 0.5107\n",
      "Epoch 40/50\n",
      "50000/50000 [==============================] - 12s 247us/step - loss: 0.6539 - acc: 0.8017 - val_loss: 1.4678 - val_acc: 0.5096\n",
      "Epoch 41/50\n",
      "50000/50000 [==============================] - 13s 251us/step - loss: 0.6337 - acc: 0.8119 - val_loss: 1.4782 - val_acc: 0.5091\n",
      "Epoch 42/50\n",
      "50000/50000 [==============================] - 13s 251us/step - loss: 0.6143 - acc: 0.8200 - val_loss: 1.4874 - val_acc: 0.5082\n",
      "Epoch 43/50\n",
      "50000/50000 [==============================] - 13s 261us/step - loss: 0.5952 - acc: 0.8271 - val_loss: 1.4933 - val_acc: 0.5115\n",
      "Epoch 44/50\n",
      "50000/50000 [==============================] - 15s 294us/step - loss: 0.5773 - acc: 0.8334 - val_loss: 1.5029 - val_acc: 0.5111\n",
      "Epoch 45/50\n",
      "50000/50000 [==============================] - 16s 316us/step - loss: 0.5576 - acc: 0.8417 - val_loss: 1.5163 - val_acc: 0.5109\n",
      "Epoch 46/50\n",
      "50000/50000 [==============================] - 15s 302us/step - loss: 0.5400 - acc: 0.8488 - val_loss: 1.5269 - val_acc: 0.5071\n",
      "Epoch 47/50\n",
      "50000/50000 [==============================] - 16s 315us/step - loss: 0.5225 - acc: 0.8572 - val_loss: 1.5358 - val_acc: 0.5067\n",
      "Epoch 48/50\n",
      "50000/50000 [==============================] - 16s 313us/step - loss: 0.5046 - acc: 0.8623 - val_loss: 1.5470 - val_acc: 0.5043\n",
      "Epoch 49/50\n"
     ]
    },
    {
     "name": "stdout",
     "output_type": "stream",
     "text": [
      "50000/50000 [==============================] - 16s 330us/step - loss: 0.4861 - acc: 0.8699 - val_loss: 1.5591 - val_acc: 0.5061\n",
      "Epoch 50/50\n",
      "50000/50000 [==============================] - 16s 321us/step - loss: 0.4696 - acc: 0.8761 - val_loss: 1.5741 - val_acc: 0.5073\n"
     ]
    }
   ],
   "source": [
    "# 載入 Callbacks\n",
    "\"\"\"Code Here\n",
    "設定 callbacks: model checkpoint\n",
    "\"\"\"\n",
    "from keras.callbacks import ModelCheckpoint\n",
    "\n",
    "model_ckpt = ModelCheckpoint(filepath=\"./tmp_weights.h5\", \n",
    "                             monitor=\"val_loss\", \n",
    "                             save_best_only=False,\n",
    "                            save_weights_only=True)\n",
    "\n",
    "\n",
    "results = {}\n",
    "\"\"\"Code Here\n",
    "撰寫你的訓練流程並將結果用 dictionary 紀錄\n",
    "\"\"\"\n",
    "model = build_mlp(input_shape=x_train.shape[1:])\n",
    "model.summary()\n",
    "optimizer = keras.optimizers.SGD(lr=LEARNING_RATE, nesterov=True, momentum=MOMENTUM)\n",
    "model.compile(loss=\"categorical_crossentropy\", metrics=[\"accuracy\"], optimizer=optimizer)\n",
    "\n",
    "model.fit(x_train, y_train, \n",
    "          epochs=EPOCHS, \n",
    "          batch_size=BATCH_SIZE, \n",
    "          validation_data=(x_test, y_test), \n",
    "          shuffle=True,\n",
    "          callbacks=[model_ckpt]\n",
    "         )\n",
    "\n",
    "# Collect results\n",
    "train_loss = model.history.history[\"loss\"]\n",
    "valid_loss = model.history.history[\"val_loss\"]\n",
    "train_acc = model.history.history[\"acc\"]\n",
    "valid_acc = model.history.history[\"val_acc\"]\n"
   ]
  },
  {
   "cell_type": "code",
   "execution_count": 14,
   "metadata": {},
   "outputs": [
    {
     "name": "stdout",
     "output_type": "stream",
     "text": [
      "10000/10000 [==============================] - 3s 281us/step\n"
     ]
    }
   ],
   "source": [
    "# Load weights back\n",
    "model_test = build_mlp(input_shape=x_train.shape[1:])\n",
    "model_test.compile(loss=\"categorical_crossentropy\", metrics=[\"accuracy\"], optimizer=optimizer)\n",
    "model_test.load_weights('tmp_weights.h5')\n",
    "loss_loadback, acc_loadback = model_test.evaluate(x_test, y_test)"
   ]
  },
  {
   "cell_type": "code",
   "execution_count": 15,
   "metadata": {},
   "outputs": [
    {
     "data": {
      "image/png": "[encoded data removed]",
      "text/plain": [
       "<Figure size 432x288 with 1 Axes>"
      ]
     },
     "metadata": {
      "needs_background": "light"
     },
     "output_type": "display_data"
    },
    {
     "data": {
      "image/png": "[encoded data removed]",
      "text/plain": [
       "<Figure size 432x288 with 1 Axes>"
      ]
     },
     "metadata": {
      "needs_background": "light"
     },
     "output_type": "display_data"
    }
   ],
   "source": [
    "import matplotlib.pyplot as plt\n",
    "%matplotlib inline\n",
    "\"\"\"Code Here\n",
    "將結果繪出\n",
    "\"\"\"\n",
    "\n",
    "plt.plot(range(len(train_loss)), train_loss, label=\"train loss\")\n",
    "plt.plot(range(len(valid_loss)), valid_loss, label=\"valid loss\")\n",
    "plt.hlines(y=loss_loadback, xmin=0, xmax=len(train_loss), colors='r', linestyles='--')\n",
    "plt.legend()\n",
    "plt.title(\"Loss\")\n",
    "plt.show()\n",
    "\n",
    "plt.plot(range(len(train_acc)), train_acc, label=\"train accuracy\")\n",
    "plt.plot(range(len(valid_acc)), valid_acc, label=\"valid accuracy\")\n",
    "plt.hlines(y=acc_loadback, xmin=0, xmax=len(train_loss), colors='r', linestyles='--')\n",
    "plt.legend()\n",
    "plt.title(\"Accuracy\")\n",
    "plt.show()"
   ]
  },
  {
   "cell_type": "code",
   "execution_count": null,
   "metadata": {},
   "outputs": [],
   "source": []
  }
 ],
 "metadata": {
  "kernelspec": {
   "display_name": "Python 3",
   "language": "python",
   "name": "python3"
  },
  "language_info": {
   "codemirror_mode": {
    "name": "ipython",
    "version": 3
   },
   "file_extension": ".py",
   "mimetype": "text/x-python",
   "name": "python",
   "nbconvert_exporter": "python",
   "pygments_lexer": "ipython3",
   "version": "3.7.3"
  }
 },
 "nbformat": 4,
 "nbformat_minor": 2
}
