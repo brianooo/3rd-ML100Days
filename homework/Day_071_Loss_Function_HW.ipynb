{
 "cells": [
  {
   "cell_type": "markdown",
   "metadata": {
    "colab_type": "text",
    "id": "cj4tE8e8iUtO"
   },
   "source": [
    "#   \n",
    "\n",
    "# 作業目標:\n",
    "\n",
    "    1. 藉由固定的 dataset, 來驗證不同loss function\n",
    "    2. Dataset 的特性跟我們選用的loss function 對accrancy 的影響\n",
    "    \n",
    "    \n",
    "# 作業重點: \n",
    "    請分別選用 \"MSE\", \"binary _crossentropy\"\n",
    "    查看Train/test accurancy and loss rate\n",
    "    "
   ]
  },
  {
   "cell_type": "markdown",
   "metadata": {
    "colab_type": "text",
    "id": "R51J4KyyiUsL"
   },
   "source": [
    "# 導入必要的函數"
   ]
  },
  {
   "cell_type": "code",
   "execution_count": 63,
   "metadata": {
    "colab": {},
    "colab_type": "code",
    "id": "Qd68OQjciUsM"
   },
   "outputs": [],
   "source": [
    "from keras.datasets import cifar10\n",
    "import numpy as np\n",
    "np.random.seed(10)"
   ]
  },
  {
   "cell_type": "markdown",
   "metadata": {
    "colab_type": "text",
    "id": "GxKuzQLQiUsP"
   },
   "source": [
    "# 資料準備"
   ]
  },
  {
   "cell_type": "code",
   "execution_count": 64,
   "metadata": {
    "colab": {},
    "colab_type": "code",
    "id": "MIbFZdTCiUsQ"
   },
   "outputs": [],
   "source": [
    "#取得Keras Dataset\n",
    "(x_img_train,y_label_train),(x_img_test,y_label_test)=cifar10.load_data()"
   ]
  },
  {
   "cell_type": "code",
   "execution_count": 65,
   "metadata": {
    "colab": {},
    "colab_type": "code",
    "id": "J8CJVjNOiUsS"
   },
   "outputs": [
    {
     "name": "stdout",
     "output_type": "stream",
     "text": [
      "train data: images: (50000, 32, 32, 3)  labels: (50000, 1)\n",
      "test  data: images: (10000, 32, 32, 3)  labels: (10000, 1)\n"
     ]
    }
   ],
   "source": [
    "#確認 CIFAR10 Dataset 資料維度\n",
    "print(\"train data:\",'images:',x_img_train.shape,\n",
    "      \" labels:\",y_label_train.shape) \n",
    "print(\"test  data:\",'images:',x_img_test.shape ,\n",
    "      \" labels:\",y_label_test.shape) "
   ]
  },
  {
   "cell_type": "code",
   "execution_count": 66,
   "metadata": {
    "colab": {},
    "colab_type": "code",
    "id": "V3P6P4DXiUsV"
   },
   "outputs": [],
   "source": [
    "#資料正規化\n",
    "x_img_train_normalize = x_img_train.astype('float32') / 255.0\n",
    "x_img_test_normalize = x_img_test.astype('float32') / 255.0"
   ]
  },
  {
   "cell_type": "code",
   "execution_count": 67,
   "metadata": {
    "colab": {},
    "colab_type": "code",
    "id": "vsDyjKYliUsX"
   },
   "outputs": [
    {
     "data": {
      "text/plain": [
       "(10000, 10)"
      ]
     },
     "execution_count": 67,
     "metadata": {},
     "output_type": "execute_result"
    }
   ],
   "source": [
    "#針對Label 做 ONE HOT ENCODE\n",
    "from keras.utils import np_utils\n",
    "y_label_train_OneHot = np_utils.to_categorical(y_label_train)\n",
    "y_label_test_OneHot = np_utils.to_categorical(y_label_test)\n",
    "y_label_test_OneHot.shape"
   ]
  },
  {
   "cell_type": "markdown",
   "metadata": {
    "colab_type": "text",
    "id": "RutW2OtgiUsZ"
   },
   "source": [
    "# 建立模型"
   ]
  },
  {
   "cell_type": "code",
   "execution_count": 68,
   "metadata": {
    "colab": {},
    "colab_type": "code",
    "id": "aHz592aXiUsa"
   },
   "outputs": [],
   "source": [
    "from keras.models import Sequential\n",
    "from keras.layers import Dense, Dropout, Activation, Flatten\n",
    "from keras.layers import Conv2D, MaxPooling2D, ZeroPadding2D"
   ]
  },
  {
   "cell_type": "code",
   "execution_count": 69,
   "metadata": {
    "colab": {},
    "colab_type": "code",
    "id": "hslqrIp0iUse"
   },
   "outputs": [],
   "source": [
    "model = Sequential()"
   ]
  },
  {
   "cell_type": "code",
   "execution_count": 70,
   "metadata": {
    "colab": {},
    "colab_type": "code",
    "id": "Hqe35hs2iUsi"
   },
   "outputs": [],
   "source": [
    "#卷積層1"
   ]
  },
  {
   "cell_type": "code",
   "execution_count": 71,
   "metadata": {
    "colab": {},
    "colab_type": "code",
    "id": "ED7dqe1YiUsm"
   },
   "outputs": [],
   "source": [
    "model.add(Conv2D(filters=32,kernel_size=(3,3),\n",
    "                 input_shape=(32, 32,3), \n",
    "                 activation='relu', \n",
    "                 padding='same'))"
   ]
  },
  {
   "cell_type": "code",
   "execution_count": 72,
   "metadata": {
    "colab": {},
    "colab_type": "code",
    "id": "n-GRKmPViUso"
   },
   "outputs": [],
   "source": [
    "model.add(Dropout(rate=0.25))"
   ]
  },
  {
   "cell_type": "code",
   "execution_count": 73,
   "metadata": {
    "colab": {},
    "colab_type": "code",
    "id": "GlWnnD1uiUsw"
   },
   "outputs": [],
   "source": [
    "model.add(MaxPooling2D(pool_size=(2, 2)))"
   ]
  },
  {
   "cell_type": "code",
   "execution_count": 74,
   "metadata": {
    "colab": {},
    "colab_type": "code",
    "id": "nawlkt55iUsy"
   },
   "outputs": [],
   "source": [
    "#卷積層2與池化層2"
   ]
  },
  {
   "cell_type": "code",
   "execution_count": 75,
   "metadata": {
    "colab": {},
    "colab_type": "code",
    "id": "xxyETiKNiUs1"
   },
   "outputs": [],
   "source": [
    "model.add(Conv2D(filters=64, kernel_size=(3, 3), \n",
    "                 activation='relu', padding='same'))"
   ]
  },
  {
   "cell_type": "code",
   "execution_count": 76,
   "metadata": {
    "colab": {},
    "colab_type": "code",
    "id": "RqcKWtqGiUs2"
   },
   "outputs": [],
   "source": [
    "model.add(Dropout(0.25))"
   ]
  },
  {
   "cell_type": "code",
   "execution_count": 77,
   "metadata": {
    "colab": {},
    "colab_type": "code",
    "id": "BUOOzlqfiUs4"
   },
   "outputs": [],
   "source": [
    "model.add(MaxPooling2D(pool_size=(2, 2)))"
   ]
  },
  {
   "cell_type": "code",
   "execution_count": 78,
   "metadata": {
    "colab": {},
    "colab_type": "code",
    "id": "LpkppB2siUs7"
   },
   "outputs": [],
   "source": [
    "#建立神經網路(平坦層、隱藏層、輸出層)"
   ]
  },
  {
   "cell_type": "code",
   "execution_count": 79,
   "metadata": {
    "colab": {},
    "colab_type": "code",
    "id": "UQOfU54_iUs_"
   },
   "outputs": [],
   "source": [
    "model.add(Flatten())\n",
    "model.add(Dropout(rate=0.25))"
   ]
  },
  {
   "cell_type": "code",
   "execution_count": 80,
   "metadata": {
    "colab": {},
    "colab_type": "code",
    "id": "_NV-8sq4iUtD"
   },
   "outputs": [],
   "source": [
    "model.add(Dense(1024, activation='relu'))\n",
    "model.add(Dropout(rate=0.25))\n",
    "model.add(Dense(256, activation='relu'))"
   ]
  },
  {
   "cell_type": "code",
   "execution_count": 81,
   "metadata": {
    "colab": {},
    "colab_type": "code",
    "id": "qVK77krOiUtF"
   },
   "outputs": [],
   "source": [
    "model.add(Dense(10, activation='softmax'))"
   ]
  },
  {
   "cell_type": "code",
   "execution_count": 82,
   "metadata": {
    "colab": {},
    "colab_type": "code",
    "id": "ZxzRIjR0iUtH"
   },
   "outputs": [
    {
     "name": "stdout",
     "output_type": "stream",
     "text": [
      "_________________________________________________________________\n",
      "Layer (type)                 Output Shape              Param #   \n",
      "=================================================================\n",
      "conv2d_5 (Conv2D)            (None, 32, 32, 32)        896       \n",
      "_________________________________________________________________\n",
      "dropout_9 (Dropout)          (None, 32, 32, 32)        0         \n",
      "_________________________________________________________________\n",
      "max_pooling2d_5 (MaxPooling2 (None, 16, 16, 32)        0         \n",
      "_________________________________________________________________\n",
      "conv2d_6 (Conv2D)            (None, 16, 16, 64)        18496     \n",
      "_________________________________________________________________\n",
      "dropout_10 (Dropout)         (None, 16, 16, 64)        0         \n",
      "_________________________________________________________________\n",
      "max_pooling2d_6 (MaxPooling2 (None, 8, 8, 64)          0         \n",
      "_________________________________________________________________\n",
      "flatten_3 (Flatten)          (None, 4096)              0         \n",
      "_________________________________________________________________\n",
      "dropout_11 (Dropout)         (None, 4096)              0         \n",
      "_________________________________________________________________\n",
      "dense_7 (Dense)              (None, 1024)              4195328   \n",
      "_________________________________________________________________\n",
      "dropout_12 (Dropout)         (None, 1024)              0         \n",
      "_________________________________________________________________\n",
      "dense_8 (Dense)              (None, 256)               262400    \n",
      "_________________________________________________________________\n",
      "dense_9 (Dense)              (None, 10)                2570      \n",
      "=================================================================\n",
      "Total params: 4,479,690\n",
      "Trainable params: 4,479,690\n",
      "Non-trainable params: 0\n",
      "_________________________________________________________________\n",
      "None\n"
     ]
    }
   ],
   "source": [
    "#檢查model 的STACK\n",
    "print(model.summary())"
   ]
  },
  {
   "cell_type": "markdown",
   "metadata": {
    "colab_type": "text",
    "id": "QJCtpJM0iUtJ"
   },
   "source": [
    "# 載入之前訓練的模型"
   ]
  },
  {
   "cell_type": "code",
   "execution_count": 83,
   "metadata": {
    "colab": {},
    "colab_type": "code",
    "id": "JU3A6NzQiUtK"
   },
   "outputs": [
    {
     "name": "stdout",
     "output_type": "stream",
     "text": [
      "載入模型失敗!開始訓練一個新模型\n"
     ]
    }
   ],
   "source": [
    "try:\n",
    "    model.load_weights(\"SaveModel/cifarCnnModel.h5\")\n",
    "    print(\"載入模型成功!繼續訓練模型\")\n",
    "except :    \n",
    "    print(\"載入模型失敗!開始訓練一個新模型\")"
   ]
  },
  {
   "cell_type": "markdown",
   "metadata": {
    "colab_type": "text",
    "id": "qBbCuziziUtM"
   },
   "source": [
    "# 訓練模型"
   ]
  },
  {
   "cell_type": "code",
   "execution_count": 84,
   "metadata": {
    "colab": {},
    "colab_type": "code",
    "id": "Q6BiBcseiUtP"
   },
   "outputs": [
    {
     "name": "stdout",
     "output_type": "stream",
     "text": [
      "Train on 37500 samples, validate on 12500 samples\n",
      "Epoch 1/12\n",
      "37500/37500 [==============================] - 98s 3ms/step - loss: 2.2012 - acc: 0.1785 - val_loss: 2.0724 - val_acc: 0.2776\n",
      "Epoch 2/12\n",
      "37500/37500 [==============================] - 89s 2ms/step - loss: 1.9815 - acc: 0.2807 - val_loss: 1.9598 - val_acc: 0.3223\n",
      "Epoch 3/12\n",
      "37500/37500 [==============================] - 90s 2ms/step - loss: 1.8441 - acc: 0.3380 - val_loss: 1.8208 - val_acc: 0.3918\n",
      "Epoch 4/12\n",
      "37500/37500 [==============================] - 90s 2ms/step - loss: 1.7325 - acc: 0.3807 - val_loss: 1.7211 - val_acc: 0.4202\n",
      "Epoch 5/12\n",
      "37500/37500 [==============================] - 89s 2ms/step - loss: 1.6417 - acc: 0.4104 - val_loss: 1.6427 - val_acc: 0.4435\n",
      "Epoch 6/12\n",
      "37500/37500 [==============================] - 89s 2ms/step - loss: 1.5684 - acc: 0.4344 - val_loss: 1.5814 - val_acc: 0.4631\n",
      "Epoch 7/12\n",
      "37500/37500 [==============================] - 89s 2ms/step - loss: 1.5117 - acc: 0.4544 - val_loss: 1.5458 - val_acc: 0.4758\n",
      "Epoch 8/12\n",
      "37500/37500 [==============================] - 90s 2ms/step - loss: 1.4722 - acc: 0.4685 - val_loss: 1.4781 - val_acc: 0.4982\n",
      "Epoch 9/12\n",
      "37500/37500 [==============================] - 89s 2ms/step - loss: 1.4347 - acc: 0.4832 - val_loss: 1.4412 - val_acc: 0.5152\n",
      "Epoch 10/12\n",
      "37500/37500 [==============================] - 91s 2ms/step - loss: 1.4049 - acc: 0.4953 - val_loss: 1.4213 - val_acc: 0.5253\n",
      "Epoch 11/12\n",
      "37500/37500 [==============================] - 91s 2ms/step - loss: 1.3771 - acc: 0.5036 - val_loss: 1.3952 - val_acc: 0.5352\n",
      "Epoch 12/12\n",
      "37500/37500 [==============================] - 90s 2ms/step - loss: 1.3507 - acc: 0.5156 - val_loss: 1.3754 - val_acc: 0.5420\n",
      "Train on 37500 samples, validate on 12500 samples\n",
      "Epoch 1/12\n",
      "37500/37500 [==============================] - 90s 2ms/step - loss: 0.0606 - acc: 0.5316 - val_loss: 0.0627 - val_acc: 0.5355\n",
      "Epoch 2/12\n",
      "37500/37500 [==============================] - 89s 2ms/step - loss: 0.0604 - acc: 0.5315 - val_loss: 0.0624 - val_acc: 0.5370\n",
      "Epoch 3/12\n",
      "37500/37500 [==============================] - 91s 2ms/step - loss: 0.0604 - acc: 0.5319 - val_loss: 0.0623 - val_acc: 0.5382\n",
      "Epoch 4/12\n",
      "37500/37500 [==============================] - 89s 2ms/step - loss: 0.0604 - acc: 0.5316 - val_loss: 0.0623 - val_acc: 0.5413\n",
      "Epoch 5/12\n",
      "37500/37500 [==============================] - 89s 2ms/step - loss: 0.0603 - acc: 0.5325 - val_loss: 0.0621 - val_acc: 0.5437\n",
      "Epoch 6/12\n",
      "37500/37500 [==============================] - 90s 2ms/step - loss: 0.0600 - acc: 0.5348 - val_loss: 0.0620 - val_acc: 0.5422\n",
      "Epoch 7/12\n",
      "37500/37500 [==============================] - 89s 2ms/step - loss: 0.0600 - acc: 0.5369 - val_loss: 0.0620 - val_acc: 0.5418\n",
      "Epoch 8/12\n",
      "37500/37500 [==============================] - 90s 2ms/step - loss: 0.0600 - acc: 0.5368 - val_loss: 0.0620 - val_acc: 0.5430\n",
      "Epoch 9/12\n",
      "37500/37500 [==============================] - 4433s 118ms/step - loss: 0.0597 - acc: 0.5381 - val_loss: 0.0620 - val_acc: 0.5430\n",
      "Epoch 10/12\n",
      "37500/37500 [==============================] - 149s 4ms/step - loss: 0.0599 - acc: 0.5372 - val_loss: 0.0618 - val_acc: 0.5446\n",
      "Epoch 11/12\n",
      "37500/37500 [==============================] - 159s 4ms/step - loss: 0.0598 - acc: 0.5377 - val_loss: 0.0618 - val_acc: 0.5474\n",
      "Epoch 12/12\n",
      "37500/37500 [==============================] - 150s 4ms/step - loss: 0.0598 - acc: 0.5387 - val_loss: 0.0618 - val_acc: 0.5466\n",
      "Train on 37500 samples, validate on 12500 samples\n",
      "Epoch 1/12\n",
      "37500/37500 [==============================] - 145s 4ms/step - loss: 0.2022 - acc: 0.9201 - val_loss: 0.2098 - val_acc: 0.9164\n",
      "Epoch 2/12\n",
      "37500/37500 [==============================] - 139s 4ms/step - loss: 0.2015 - acc: 0.9205 - val_loss: 0.2099 - val_acc: 0.9164\n",
      "Epoch 3/12\n",
      "37500/37500 [==============================] - 140s 4ms/step - loss: 0.2008 - acc: 0.9209 - val_loss: 0.2089 - val_acc: 0.9167\n",
      "Epoch 4/12\n",
      "37500/37500 [==============================] - 140s 4ms/step - loss: 0.2010 - acc: 0.9207 - val_loss: 0.2087 - val_acc: 0.9167\n",
      "Epoch 5/12\n",
      "37500/37500 [==============================] - 139s 4ms/step - loss: 0.1999 - acc: 0.9213 - val_loss: 0.2079 - val_acc: 0.9172\n",
      "Epoch 6/12\n",
      "37500/37500 [==============================] - 139s 4ms/step - loss: 0.2002 - acc: 0.9208 - val_loss: 0.2085 - val_acc: 0.9168\n",
      "Epoch 7/12\n",
      "37500/37500 [==============================] - 139s 4ms/step - loss: 0.1996 - acc: 0.9215 - val_loss: 0.2079 - val_acc: 0.9171\n",
      "Epoch 8/12\n",
      "37500/37500 [==============================] - 1391s 37ms/step - loss: 0.1986 - acc: 0.9217 - val_loss: 0.2073 - val_acc: 0.9174\n",
      "Epoch 9/12\n",
      "37500/37500 [==============================] - 129s 3ms/step - loss: 0.1987 - acc: 0.9218 - val_loss: 0.2067 - val_acc: 0.9178\n",
      "Epoch 10/12\n",
      "37500/37500 [==============================] - 144s 4ms/step - loss: 0.1981 - acc: 0.9220 - val_loss: 0.2067 - val_acc: 0.9174\n",
      "Epoch 11/12\n",
      "37500/37500 [==============================] - 140s 4ms/step - loss: 0.1974 - acc: 0.9219 - val_loss: 0.2058 - val_acc: 0.9182\n",
      "Epoch 12/12\n",
      "37500/37500 [==============================] - 141s 4ms/step - loss: 0.1972 - acc: 0.9223 - val_loss: 0.2054 - val_acc: 0.9181\n"
     ]
    }
   ],
   "source": [
    "'''\n",
    "作業:請分別選用 \"MSE\", \"binary _crossentropy\" 查看Train/test accurancy and loss rate\n",
    "'''\n",
    "\n",
    "loss_function = ['categorical_crossentropy', 'MSE', 'binary_crossentropy']\n",
    "\n",
    "# model_cat = model_mse = model_bin = model\n",
    "Model = []\n",
    "train_history = []\n",
    "\n",
    "#print(type(Model[i]))\n",
    "for i in range(3):\n",
    "    Model.append(model)\n",
    "    Model[i].compile(loss=loss_function[i], optimizer='sgd', metrics=['accuracy'])\n",
    "    train_history.append(Model[i].fit(x_img_train_normalize, y_label_train_OneHot,\n",
    "                        validation_split=0.25,\n",
    "                        epochs=12, batch_size=128, verbose=1))\n"
   ]
  },
  {
   "cell_type": "code",
   "execution_count": 87,
   "metadata": {
    "colab": {},
    "colab_type": "code",
    "id": "4-GdDgmQiUtS"
   },
   "outputs": [],
   "source": [
    "import matplotlib.pyplot as plt\n",
    "%matplotlib inline\n",
    "\n",
    "#定義一個繪圖函數\n",
    "def show_train_history(train_history, train_acc,test_acc, title):\n",
    "    plt.plot(train_history.history[train_acc])\n",
    "    plt.plot(train_history.history[test_acc])\n",
    "    plt.title(title)\n",
    "    plt.ylabel('Accuracy')\n",
    "    plt.xlabel('Epoch')\n",
    "    plt.legend(['train_acc', 'val_acc'], loc='upper left')\n",
    "    plt.show()"
   ]
  },
  {
   "cell_type": "code",
   "execution_count": 88,
   "metadata": {},
   "outputs": [
    {
     "data": {
      "image/png": "[encoded data removed]",
      "text/plain": [
       "<Figure size 432x288 with 1 Axes>"
      ]
     },
     "metadata": {
      "needs_background": "light"
     },
     "output_type": "display_data"
    },
    {
     "data": {
      "image/png": "[encoded data removed]",
      "text/plain": [
       "<Figure size 432x288 with 1 Axes>"
      ]
     },
     "metadata": {
      "needs_background": "light"
     },
     "output_type": "display_data"
    },
    {
     "data": {
      "image/png": "[encoded data removed]",
      "text/plain": [
       "<Figure size 432x288 with 1 Axes>"
      ]
     },
     "metadata": {
      "needs_background": "light"
     },
     "output_type": "display_data"
    }
   ],
   "source": [
    "for i in range(len(Model)):\n",
    "    show_train_history(train_history[i], 'acc','val_acc', loss_function[i])"
   ]
  },
  {
   "cell_type": "code",
   "execution_count": null,
   "metadata": {},
   "outputs": [],
   "source": []
  }
 ],
 "metadata": {
  "colab": {
   "name": "Day71-使用損失函數_HW.ipynb",
   "provenance": [],
   "version": "0.3.2"
  },
  "kernelspec": {
   "display_name": "Python 3",
   "language": "python",
   "name": "python3"
  },
  "language_info": {
   "codemirror_mode": {
    "name": "ipython",
    "version": 3
   },
   "file_extension": ".py",
   "mimetype": "text/x-python",
   "name": "python",
   "nbconvert_exporter": "python",
   "pygments_lexer": "ipython3",
   "version": "3.7.3"
  }
 },
 "nbformat": 4,
 "nbformat_minor": 1
}
