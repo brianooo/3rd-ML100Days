{
 "cells": [
  {
   "cell_type": "markdown",
   "metadata": {},
   "source": [
    "## [作業目標]\n",
    "了解機器學習適合應用的領域與範疇。"
   ]
  },
  {
   "cell_type": "markdown",
   "metadata": {},
   "source": [
    "## [作業重點]\n",
    "透過瞭解機器學習的運作方式，找出非常適用機器學習應用的領域及其原因"
   ]
  },
  {
   "cell_type": "markdown",
   "metadata": {},
   "source": [
    "## 作業\n",
    "請找出一個你認為機器學習可以發光發熱的領域並闡述原因? "
   ]
  },
  {
   "cell_type": "code",
   "execution_count": null,
   "metadata": {},
   "outputs": [],
   "source": [
    "互動式科技，例如各類型機器人(服務型，勞動型，等等)\n",
    "- 可以取代低階勞動工作，轉移人力到高階勞動工作\n",
    "- 替代人類執行危險任務，例如救災、拆除炸彈、登陸火星\n",
    "- 提供娛樂、表演服務(人類無法達成之技能)\n",
    "- 智慧管家，管理家中各項物品設施，家庭成員健康\n",
    "- 各種單位的智能總管，管理各單位設施使用狀況，偵測營運財政狀態，評估員工工作成效\n",
    "- 符合人工智慧的終極目標"
   ]
  }
 ],
 "metadata": {
  "kernelspec": {
   "display_name": "Python 3",
   "language": "python",
   "name": "python3"
  },
  "language_info": {
   "codemirror_mode": {
    "name": "ipython",
    "version": 3
   },
   "file_extension": ".py",
   "mimetype": "text/x-python",
   "name": "python",
   "nbconvert_exporter": "python",
   "pygments_lexer": "ipython3",
   "version": "3.7.3"
  }
 },
 "nbformat": 4,
 "nbformat_minor": 2
}
